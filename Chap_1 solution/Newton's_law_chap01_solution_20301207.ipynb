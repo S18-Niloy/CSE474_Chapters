{
  "cells": [
    {
      "cell_type": "markdown",
      "id": "affecting-malta",
      "metadata": {
        "id": "affecting-malta"
      },
      "source": [
        "# Modeling"
      ]
    },
    {
      "cell_type": "code",
      "execution_count": 71,
      "id": "passive-dayton",
      "metadata": {
        "tags": [],
        "id": "passive-dayton"
      },
      "outputs": [],
      "source": [
        "# install Pint if necessary\n",
        "\n",
        "try:\n",
        "    from pint import UnitRegistry\n",
        "except ImportError:\n",
        "    !pip install pint"
      ]
    },
    {
      "cell_type": "code",
      "execution_count": 72,
      "id": "prompt-committee",
      "metadata": {
        "tags": [],
        "id": "prompt-committee"
      },
      "outputs": [],
      "source": [
        "# download modsim.py if necessary\n",
        "\n",
        "from os.path import basename, exists\n",
        "\n",
        "def download(url):\n",
        "    filename = basename(url)\n",
        "    if not exists(filename):\n",
        "        from urllib.request import urlretrieve\n",
        "        local, _ = urlretrieve(url, filename)\n",
        "        print('Downloaded ' + local)\n",
        "\n",
        "download('https://github.com/AllenDowney/ModSimPy/raw/master/' +\n",
        "         'modsim.py')"
      ]
    },
    {
      "cell_type": "code",
      "execution_count": 73,
      "id": "fifteen-train",
      "metadata": {
        "tags": [],
        "id": "fifteen-train"
      },
      "outputs": [],
      "source": [
        "# import functions from modsim\n",
        "\n",
        "from modsim import *"
      ]
    },
    {
      "cell_type": "markdown",
      "source": [
        "#Newtons law of gravity\n"
      ],
      "metadata": {
        "id": "ADXcvTwOhQoI"
      },
      "id": "ADXcvTwOhQoI"
    },
    {
      "cell_type": "markdown",
      "source": [
        "Every matter in the world attracts every matter and the value of attraction force between two matters is proporsional to the masses of the matters and inversely proportional to the distance between two matters."
      ],
      "metadata": {
        "id": "DmOHh2lihbCu"
      },
      "id": "DmOHh2lihbCu"
    },
    {
      "cell_type": "markdown",
      "source": [
        "$$F = \\frac{G \\cdot m_1 \\cdot m_2}{r^2}$$\n",
        "\n"
      ],
      "metadata": {
        "id": "RQxVOtvQiHL5"
      },
      "id": "RQxVOtvQiHL5"
    },
    {
      "cell_type": "markdown",
      "source": [
        "F represents the gravitational force between two objects.\n",
        "\n",
        "G is the gravitational constant.\n",
        "\n",
        "m_1 and m_2 are the masses of the two objects.\n",
        "\n",
        "r is the distance between the centers of the two objects."
      ],
      "metadata": {
        "id": "Y7zco6fJpMX4"
      },
      "id": "Y7zco6fJpMX4"
    },
    {
      "cell_type": "code",
      "execution_count": 74,
      "id": "eleven-marine",
      "metadata": {
        "id": "eleven-marine"
      },
      "outputs": [],
      "source": [
        "G = 6.673*(10**-11)"
      ]
    },
    {
      "cell_type": "code",
      "execution_count": 75,
      "id": "following-launch",
      "metadata": {
        "id": "following-launch"
      },
      "outputs": [],
      "source": [
        "m_1 = 20"
      ]
    },
    {
      "cell_type": "code",
      "execution_count": 76,
      "id": "mature-duration",
      "metadata": {
        "id": "mature-duration"
      },
      "outputs": [],
      "source": [
        "m_2 = 50"
      ]
    },
    {
      "cell_type": "code",
      "source": [
        "r = 7"
      ],
      "metadata": {
        "id": "p6d0QWT4qKRX"
      },
      "id": "p6d0QWT4qKRX",
      "execution_count": 77,
      "outputs": []
    },
    {
      "cell_type": "code",
      "execution_count": 78,
      "id": "considered-inclusion",
      "metadata": {
        "id": "considered-inclusion",
        "colab": {
          "base_uri": "https://localhost:8080/"
        },
        "outputId": "1e2bf184-0db5-4f81-da54-8cc907409077"
      },
      "outputs": [
        {
          "output_type": "execute_result",
          "data": {
            "text/plain": [
              "6.673e-11"
            ]
          },
          "metadata": {},
          "execution_count": 78
        }
      ],
      "source": [
        "G"
      ]
    },
    {
      "cell_type": "code",
      "execution_count": 79,
      "id": "valued-electricity",
      "metadata": {
        "id": "valued-electricity",
        "colab": {
          "base_uri": "https://localhost:8080/"
        },
        "outputId": "1c9739eb-a109-4364-b688-ebc16da950a1"
      },
      "outputs": [
        {
          "output_type": "execute_result",
          "data": {
            "text/plain": [
              "1.3618367346938776e-09"
            ]
          },
          "metadata": {},
          "execution_count": 79
        }
      ],
      "source": [
        "F = G * ((m_1*m_2)/ r**2)\n",
        "F"
      ]
    },
    {
      "cell_type": "markdown",
      "id": "clinical-blackjack",
      "metadata": {
        "id": "clinical-blackjack"
      },
      "source": [
        "### Computation With Units\n"
      ]
    },
    {
      "cell_type": "code",
      "execution_count": 80,
      "id": "lovely-declaration",
      "metadata": {
        "id": "lovely-declaration"
      },
      "outputs": [],
      "source": [
        "from pint import UnitRegistry\n",
        "\n",
        "units = UnitRegistry()"
      ]
    },
    {
      "cell_type": "markdown",
      "id": "consecutive-sleeve",
      "metadata": {
        "id": "consecutive-sleeve"
      },
      "source": [
        "The result is an object that contains variables representing pretty much every unit you've heard of.\n",
        "For example:"
      ]
    },
    {
      "cell_type": "code",
      "execution_count": 81,
      "id": "cardiac-class",
      "metadata": {
        "id": "cardiac-class",
        "colab": {
          "base_uri": "https://localhost:8080/",
          "height": 34
        },
        "outputId": "896e64f1-eedc-4bbb-a709-efe34488076a"
      },
      "outputs": [
        {
          "output_type": "execute_result",
          "data": {
            "text/plain": [
              "<Unit('league')>"
            ],
            "text/html": [
              "league"
            ],
            "text/latex": "$\\mathrm{league}$"
          },
          "metadata": {},
          "execution_count": 81
        }
      ],
      "source": [
        "units.league"
      ]
    },
    {
      "cell_type": "code",
      "execution_count": 82,
      "id": "phantom-copper",
      "metadata": {
        "id": "phantom-copper",
        "colab": {
          "base_uri": "https://localhost:8080/",
          "height": 34
        },
        "outputId": "615c1ca2-f9ad-4577-ddd6-8f8865ceaf53"
      },
      "outputs": [
        {
          "output_type": "execute_result",
          "data": {
            "text/plain": [
              "<Unit('fortnight')>"
            ],
            "text/html": [
              "fortnight"
            ],
            "text/latex": "$\\mathrm{fortnight}$"
          },
          "metadata": {},
          "execution_count": 82
        }
      ],
      "source": [
        "units.fortnight"
      ]
    },
    {
      "cell_type": "code",
      "source": [
        "newton = units.newton\n",
        "newton"
      ],
      "metadata": {
        "colab": {
          "base_uri": "https://localhost:8080/",
          "height": 34
        },
        "id": "M6DNRbRxqhBS",
        "outputId": "da9a7866-e38e-4c85-8186-d0fa3965a2f3"
      },
      "id": "M6DNRbRxqhBS",
      "execution_count": 83,
      "outputs": [
        {
          "output_type": "execute_result",
          "data": {
            "text/plain": [
              "<Unit('newton')>"
            ],
            "text/html": [
              "newton"
            ],
            "text/latex": "$\\mathrm{newton}$"
          },
          "metadata": {},
          "execution_count": 83
        }
      ]
    },
    {
      "cell_type": "code",
      "execution_count": 84,
      "id": "russian-popularity",
      "metadata": {
        "id": "russian-popularity",
        "colab": {
          "base_uri": "https://localhost:8080/",
          "height": 34
        },
        "outputId": "d6aff667-cd3e-4211-aa78-9862ea08000f"
      },
      "outputs": [
        {
          "output_type": "execute_result",
          "data": {
            "text/plain": [
              "<Unit('meter')>"
            ],
            "text/html": [
              "meter"
            ],
            "text/latex": "$\\mathrm{meter}$"
          },
          "metadata": {},
          "execution_count": 84
        }
      ],
      "source": [
        "meter = units.meter\n",
        "meter"
      ]
    },
    {
      "cell_type": "code",
      "execution_count": 85,
      "id": "endless-paint",
      "metadata": {
        "id": "endless-paint",
        "colab": {
          "base_uri": "https://localhost:8080/",
          "height": 34
        },
        "outputId": "07a2a114-2959-4753-f955-cb210f150b4a"
      },
      "outputs": [
        {
          "output_type": "execute_result",
          "data": {
            "text/plain": [
              "<Unit('kilogram')>"
            ],
            "text/html": [
              "kilogram"
            ],
            "text/latex": "$\\mathrm{kilogram}$"
          },
          "metadata": {},
          "execution_count": 85
        }
      ],
      "source": [
        "kilogram = units.kilogram\n",
        "kilogram"
      ]
    },
    {
      "cell_type": "markdown",
      "id": "spiritual-scenario",
      "metadata": {
        "tags": [],
        "id": "spiritual-scenario"
      },
      "source": [
        "To find out what other units are defined, type `units.` (including the period) in the next cell.\n",
        "\n",
        "If you are on Colab, a pop-up menu should appear with a list of units.\n",
        "In other Jupyter environments, you might have to press `TAB` to get the menu."
      ]
    },
    {
      "cell_type": "code",
      "execution_count": 86,
      "id": "earlier-bandwidth",
      "metadata": {
        "id": "earlier-bandwidth",
        "colab": {
          "base_uri": "https://localhost:8080/",
          "height": 38
        },
        "outputId": "79217c77-fdf3-423b-c882-00b8841d0e0b"
      },
      "outputs": [
        {
          "output_type": "execute_result",
          "data": {
            "text/plain": [
              "6.673e-11 <Unit('meter ** 2 * newton / kilogram ** 2')>"
            ],
            "text/html": [
              "6.673×10<sup>-11</sup> meter<sup>2</sup> newton/kilogram<sup>2</sup>"
            ],
            "text/latex": "$6.673\\times 10^{-11}\\ \\frac{\\mathrm{meter}^{2} \\cdot \\mathrm{newton}}{\\mathrm{kilogram}^{2}}$"
          },
          "metadata": {},
          "execution_count": 86
        }
      ],
      "source": [
        "G = 6.673*(10**-11) *newton* meter**2 / kilogram**2\n",
        "G"
      ]
    },
    {
      "cell_type": "markdown",
      "id": "generic-bowling",
      "metadata": {
        "id": "generic-bowling"
      },
      "source": [
        "The result is a *quantity* with two parts, called `magnitude` and `units`, which we can access like this:"
      ]
    },
    {
      "cell_type": "code",
      "execution_count": 87,
      "id": "missing-privilege",
      "metadata": {
        "id": "missing-privilege",
        "colab": {
          "base_uri": "https://localhost:8080/"
        },
        "outputId": "9c02e235-15c4-419c-c6cb-3216f2e1b6cd"
      },
      "outputs": [
        {
          "output_type": "execute_result",
          "data": {
            "text/plain": [
              "6.673e-11"
            ]
          },
          "metadata": {},
          "execution_count": 87
        }
      ],
      "source": [
        "G.magnitude"
      ]
    },
    {
      "cell_type": "code",
      "execution_count": 88,
      "id": "fourth-swedish",
      "metadata": {
        "id": "fourth-swedish",
        "colab": {
          "base_uri": "https://localhost:8080/",
          "height": 38
        },
        "outputId": "706a431b-f882-470b-e7a9-d772068686e8"
      },
      "outputs": [
        {
          "output_type": "execute_result",
          "data": {
            "text/plain": [
              "<Unit('meter ** 2 * newton / kilogram ** 2')>"
            ],
            "text/html": [
              "meter<sup>2</sup> newton/kilogram<sup>2</sup>"
            ],
            "text/latex": "$\\frac{\\mathrm{meter}^{2} \\cdot \\mathrm{newton}}{\\mathrm{kilogram}^{2}}$"
          },
          "metadata": {},
          "execution_count": 88
        }
      ],
      "source": [
        "G.units"
      ]
    },
    {
      "cell_type": "code",
      "execution_count": 89,
      "id": "apart-france",
      "metadata": {
        "id": "apart-france",
        "colab": {
          "base_uri": "https://localhost:8080/",
          "height": 34
        },
        "outputId": "8692daeb-d072-47ee-b67b-b0b8f641d0a4"
      },
      "outputs": [
        {
          "output_type": "execute_result",
          "data": {
            "text/plain": [
              "40 <Unit('kilogram')>"
            ],
            "text/html": [
              "40 kilogram"
            ],
            "text/latex": "$40\\ \\mathrm{kilogram}$"
          },
          "metadata": {},
          "execution_count": 89
        }
      ],
      "source": [
        "m_1 = 40 * kilogram\n",
        "m_1"
      ]
    },
    {
      "cell_type": "code",
      "execution_count": 90,
      "id": "alien-scout",
      "metadata": {
        "id": "alien-scout",
        "colab": {
          "base_uri": "https://localhost:8080/",
          "height": 34
        },
        "outputId": "aba305ae-4232-43ba-9f86-c70e3a7533ec"
      },
      "outputs": [
        {
          "output_type": "execute_result",
          "data": {
            "text/plain": [
              "50 <Unit('kilogram')>"
            ],
            "text/html": [
              "50 kilogram"
            ],
            "text/latex": "$50\\ \\mathrm{kilogram}$"
          },
          "metadata": {},
          "execution_count": 90
        }
      ],
      "source": [
        "m_2 = 50* kilogram\n",
        "m_2"
      ]
    },
    {
      "cell_type": "code",
      "execution_count": 91,
      "id": "confidential-costs",
      "metadata": {
        "id": "confidential-costs",
        "colab": {
          "base_uri": "https://localhost:8080/",
          "height": 34
        },
        "outputId": "926c5ee9-d8c9-4a50-a07d-cf452030d922"
      },
      "outputs": [
        {
          "output_type": "execute_result",
          "data": {
            "text/plain": [
              "10 <Unit('meter')>"
            ],
            "text/html": [
              "10 meter"
            ],
            "text/latex": "$10\\ \\mathrm{meter}$"
          },
          "metadata": {},
          "execution_count": 91
        }
      ],
      "source": [
        "r = 10 * meter\n",
        "r"
      ]
    },
    {
      "cell_type": "code",
      "execution_count": 92,
      "id": "studied-opera",
      "metadata": {
        "id": "studied-opera",
        "colab": {
          "base_uri": "https://localhost:8080/",
          "height": 38
        },
        "outputId": "46c196b2-5a98-4863-bd7b-6145131fb48c"
      },
      "outputs": [
        {
          "output_type": "execute_result",
          "data": {
            "text/plain": [
              "1.3346e-09 <Unit('newton')>"
            ],
            "text/html": [
              "1.3346×10<sup>-9</sup> newton"
            ],
            "text/latex": "$1.3346\\times 10^{-9}\\ \\mathrm{newton}$"
          },
          "metadata": {},
          "execution_count": 92
        }
      ],
      "source": [
        "F = G * ((m_1*m_2)/ r**2)\n",
        "F"
      ]
    }
  ],
  "metadata": {
    "celltoolbar": "Tags",
    "kernelspec": {
      "display_name": "Python 3 (ipykernel)",
      "language": "python",
      "name": "python3"
    },
    "language_info": {
      "codemirror_mode": {
        "name": "ipython",
        "version": 3
      },
      "file_extension": ".py",
      "mimetype": "text/x-python",
      "name": "python",
      "nbconvert_exporter": "python",
      "pygments_lexer": "ipython3",
      "version": "3.8.16"
    },
    "colab": {
      "provenance": []
    }
  },
  "nbformat": 4,
  "nbformat_minor": 5
}